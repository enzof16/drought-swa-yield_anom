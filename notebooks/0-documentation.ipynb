{
 "cells": [
  {
   "cell_type": "markdown",
   "id": "6beb05b8",
   "metadata": {
    "vscode": {
     "languageId": "latex"
    }
   },
   "source": [
    "<div style=\"text-align: center; color: black; font-family: Arial, sans-serif;>\n",
    "\t<div style=border: 1px solid black; border-radius: 10px; padding: 10px; background-color: lightgray;\">\n",
    "\t\t<h1>0. Documentation</h1>\n",
    "\t\t<h3>How to use this project</h3>\n",
    "\t\t<h5>Politecnico di Milano - Summer Internship</h5>\n",
    "\t\t<h5>Enzo Fortin - 2025</h5>\n",
    "\t\t<h5>Internship supervisor : Prof. Carmelo Cammalleri</h5>\n",
    "\t</div>\n",
    "</div>"
   ]
  },
  {
   "cell_type": "markdown",
   "id": "02c90100",
   "metadata": {
    "vscode": {
     "languageId": "shellscript"
    }
   },
   "source": [
    "This notebook guides you through the workflow for standardizing, processing, and visualizing agricultural yield data.\n",
    "\n",
    "All scripts and modules are organized to facilitate reproducible research and easy adaptation to new datasets or regions."
   ]
  },
  {
   "cell_type": "markdown",
   "id": "b2ec0d48",
   "metadata": {},
   "source": [
    "---"
   ]
  },
  {
   "cell_type": "markdown",
   "id": "82f727e9",
   "metadata": {
    "vscode": {
     "languageId": "html"
    }
   },
   "source": [
    "# Project Introduction\n",
    "\n",
    "This project aims to analyze agricultural yield data and its relationship with drought events, using a reproducible workflow developed during a summer internship at Politecnico di Milano.\n",
    "\n",
    "The main objectives are to standardize yield datasets from multiple regions, detect agricultural droughts using Soil Water Availability (SWA) data, and investigate the correlation between drought occurrences and negative yield anomalies."
   ]
  },
  {
   "cell_type": "markdown",
   "id": "259ac824",
   "metadata": {},
   "source": [
    "# Structure\n",
    "\n",
    "The project is organized into several main folders and modules to support a clear and reproducible workflow:\n",
    "\n",
    "\n",
    "- notebooks/ : \n",
    "Jupyter notebooks documenting each step of the analysis (standardization, processing, visualization).\n"
   ]
  },
  {
   "cell_type": "markdown",
   "id": "bcd77116",
   "metadata": {},
   "source": [
    "# Workflow"
   ]
  },
  {
   "cell_type": "markdown",
   "id": "5051f87c",
   "metadata": {},
   "source": [
    "The workflow in this project closely follows the chronological steps of my internship.\n",
    "\n",
    "First, we process agricultural production data by standardizing it and generating maps and visualizations to extract meaningful information.\n",
    "\n",
    "Next, we analyze SWA (Soil Water Availability) data to identify agricultural drought events, using a defined threshold and a specific period (typically the growing season).\n",
    "\n",
    "Finally, we study the correlation between drought occurrences detected with SWA and the occurrences of negative yield anomalies, aiming to assess whether yield anomalies can serve as a proxy for agricultural drought."
   ]
  },
  {
   "cell_type": "markdown",
   "id": "d757e985",
   "metadata": {},
   "source": []
  }
 ],
 "metadata": {
  "kernelspec": {
   "display_name": "Python 3",
   "language": "python",
   "name": "python3"
  },
  "language_info": {
   "codemirror_mode": {
    "name": "ipython",
    "version": 3
   },
   "file_extension": ".py",
   "mimetype": "text/x-python",
   "name": "python",
   "nbconvert_exporter": "python",
   "pygments_lexer": "ipython3",
   "version": "3.13.5"
  }
 },
 "nbformat": 4,
 "nbformat_minor": 5
}

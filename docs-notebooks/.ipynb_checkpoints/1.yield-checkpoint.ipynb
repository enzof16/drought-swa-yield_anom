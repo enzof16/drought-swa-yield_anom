{
 "cells": [
  {
   "cell_type": "markdown",
   "id": "6beb05b8",
   "metadata": {
    "vscode": {
     "languageId": "latex"
    }
   },
   "source": [
    "<div style=\"text-align: center;\">\n",
    "  <img src=\"https://www.google.com/url?sa=i&url=https%3A%2F%2Fwww.istockphoto.com%2Ffr%2Fphotos%2Fchamps&psig=AOvVaw2ICzOKja6Rhw6sR3ZlsDau&ust=1756051834265000&source=images&cd=vfe&opi=89978449&ved=0CBUQjRxqFwoTCKCcr4CpoY8DFQAAAAAdAAAAABAE\" alt=\"Example Image\" style=\"max-width: 100%; height: auto;\">\n",
    "\n",
    "</div>"
   ]
  },
  {
   "cell_type": "code",
   "execution_count": null,
   "id": "76450f7b",
   "metadata": {
    "vscode": {
     "languageId": "latex"
    }
   },
   "outputs": [],
   "source": []
  }
 ],
 "metadata": {
  "kernelspec": {
   "display_name": "Python 3",
   "language": "python",
   "name": "python3"
  },
  "language_info": {
   "codemirror_mode": {
    "name": "ipython",
    "version": 3
   },
   "file_extension": ".py",
   "mimetype": "text/x-python",
   "name": "python",
   "nbconvert_exporter": "python",
   "pygments_lexer": "ipython3",
   "version": "3.13.5"
  }
 },
 "nbformat": 4,
 "nbformat_minor": 5
}

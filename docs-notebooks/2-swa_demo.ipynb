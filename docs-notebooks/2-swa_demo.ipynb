{
 "cells": [
  {
   "cell_type": "markdown",
   "id": "6beb05b8",
   "metadata": {
    "vscode": {
     "languageId": "latex"
    }
   },
   "source": [
    "<div style=\"text-align: center; color: black; font-family: Arial, sans-serif;>\n",
    "\t<div style=border: 1px solid black; border-radius: 10px; padding: 10px; background-color: lightgray;\">\n",
    "\t\t<h1>2. SWA module demonstration</h1>\n",
    "\t\t<h5>Politecnico di Milano - 2025 Summer Internship</h5>\n",
    "\t\t<h5>Internship supervisor : Prof. Carmelo Cammalleri</h5>\n",
    "\t\t<h5>Author : Enzo Fortin</h5>\n",
    "\t</div>\n",
    "</div>"
   ]
  },
  {
   "cell_type": "markdown",
   "id": "02c90100",
   "metadata": {},
   "source": [
    "The ***swa_analysis*** module contains all the functions for processing and visualizing aggregated (spatially and temporally) SWA data.\n",
    "\n",
    "- **data_processing** (dp_swa): Functions to process the swa data, from the raw tif files to spatial and temporal mean\n",
    "- **visualization** (vis_swa): Methods to plot various visualizations of temporal and"
   ]
  },
  {
   "cell_type": "markdown",
   "id": "b2ec0d48",
   "metadata": {},
   "source": [
    "---"
   ]
  },
  {
   "cell_type": "code",
   "execution_count": 1,
   "id": "7e266bc2",
   "metadata": {},
   "outputs": [
    {
     "name": "stdout",
     "output_type": "stream",
     "text": [
      "Working directory: c:\\Users\\enzof\\Documents\\Ecole\\Cours\\Stage_2A\\drought-swa-yield_anom\n"
     ]
    }
   ],
   "source": [
    "### Set the working directory to the project root if currently in the notebooks folder\n",
    "import os\n",
    "current_dir = os.getcwd()\n",
    "notebooks_dir = os.path.join(os.path.dirname(current_dir), \"notebooks\")\n",
    "\n",
    "if os.path.basename(current_dir) == \"notebooks\":\n",
    "\tos.chdir(os.path.dirname(current_dir))\n",
    "print(\"Working directory:\", os.getcwd())"
   ]
  },
  {
   "cell_type": "markdown",
   "id": "34c308c9",
   "metadata": {},
   "source": [
    "#### Imports"
   ]
  },
  {
   "cell_type": "code",
   "execution_count": 74,
   "id": "235d01e6",
   "metadata": {},
   "outputs": [],
   "source": [
    "import src.yield_analysis.data_standardization as ds_ya\n",
    "import src.yield_analysis.data_processing as dp_ya\n",
    "import src.yield_analysis.visualization as vis_ya\n",
    "\n",
    "from src.config import config\n",
    "\n",
    "from IPython.display import Image, display"
   ]
  }
 ],
 "metadata": {
  "kernelspec": {
   "display_name": "Python 3",
   "language": "python",
   "name": "python3"
  },
  "language_info": {
   "codemirror_mode": {
    "name": "ipython",
    "version": 3
   },
   "file_extension": ".py",
   "mimetype": "text/x-python",
   "name": "python",
   "nbconvert_exporter": "python",
   "pygments_lexer": "ipython3",
   "version": "3.13.5"
  }
 },
 "nbformat": 4,
 "nbformat_minor": 5
}
